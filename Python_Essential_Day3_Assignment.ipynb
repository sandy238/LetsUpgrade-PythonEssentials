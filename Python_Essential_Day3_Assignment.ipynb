{
  "nbformat": 4,
  "nbformat_minor": 0,
  "metadata": {
    "colab": {
      "name": "Python/Essential/Day3/Assignment",
      "provenance": [],
      "collapsed_sections": []
    },
    "kernelspec": {
      "name": "python3",
      "display_name": "Python 3"
    }
  },
  "cells": [
    {
      "cell_type": "markdown",
      "metadata": {
        "id": "MdQTkZLLqKHh",
        "colab_type": "text"
      },
      "source": [
        "Question 1"
      ]
    },
    {
      "cell_type": "code",
      "metadata": {
        "id": "WddcLXxVeknZ",
        "colab_type": "code",
        "colab": {
          "base_uri": "https://localhost:8080/",
          "height": 54
        },
        "outputId": "0120e325-5e66-4fb0-a90f-8f037cf1f812"
      },
      "source": [
        "Altitude=int(input())\n",
        "if Altitude<=1000:\n",
        " print(\"Safe to Land\") \n",
        "elif Altitude>1000 and Altitude<=5000:\n",
        " print(\"Bring down to 1000\") \n",
        "elif Altitude>5000:\n",
        " print(\"Turn around \")"
      ],
      "execution_count": 20,
      "outputs": [
        {
          "output_type": "stream",
          "text": [
            "1000\n",
            "Safe to Land\n"
          ],
          "name": "stdout"
        }
      ]
    },
    {
      "cell_type": "markdown",
      "metadata": {
        "id": "0pmsbDqyqf1Q",
        "colab_type": "text"
      },
      "source": [
        "Question 2"
      ]
    },
    {
      "cell_type": "code",
      "metadata": {
        "id": "35gfLe8oqh18",
        "colab_type": "code",
        "colab": {
          "base_uri": "https://localhost:8080/",
          "height": 56
        },
        "outputId": "2ac24708-2628-4573-ff6d-116e7cfc4f72"
      },
      "source": [
        "for x in range(1,200):\n",
        " num=0\n",
        " for i in range(2,(x//2+1)):\n",
        "  if(x%i==0):\n",
        "    num=num+1\n",
        "    break\n",
        " if(num==0 and x!=1):\n",
        "  print(\"%d\"%x,end=',')    "
      ],
      "execution_count": 24,
      "outputs": [
        {
          "output_type": "stream",
          "text": [
            "2,3,5,7,11,13,17,19,23,29,31,37,41,43,47,53,59,61,67,71,73,79,83,89,97,101,103,107,109,113,127,131,137,139,149,151,157,163,167,173,179,181,191,193,197,199,"
          ],
          "name": "stdout"
        }
      ]
    }
  ]
}
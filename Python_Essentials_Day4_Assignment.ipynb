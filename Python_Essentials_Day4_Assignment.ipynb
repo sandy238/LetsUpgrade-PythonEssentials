{
  "nbformat": 4,
  "nbformat_minor": 0,
  "metadata": {
    "colab": {
      "name": "Python/Essentials/Day4/assignment.ipynb",
      "provenance": []
    },
    "kernelspec": {
      "name": "python3",
      "display_name": "Python 3"
    }
  },
  "cells": [
    {
      "cell_type": "markdown",
      "metadata": {
        "id": "XW5xRRUTYUVB",
        "colab_type": "text"
      },
      "source": [
        "Question 1\n",
        "\n",
        "Print First armstrong number in the range using while loop and exit the loop as soon as the first armstrong number is printed."
      ]
    },
    {
      "cell_type": "code",
      "metadata": {
        "id": "wTHU8dVjXi1W",
        "colab_type": "code",
        "colab": {
          "base_uri": "https://localhost:8080/",
          "height": 36
        },
        "outputId": "764203b2-a622-45a9-dec5-1ad6c20b6d95"
      },
      "source": [
        "lower = 1042000\n",
        "upper = 702648265\n",
        "\n",
        "for num in range(lower, upper + 1):\n",
        "    order = len(str(num))\n",
        "    sum = 0\n",
        "    temp = num\n",
        "    while temp > 0:\n",
        "        digit = temp % 10\n",
        "        sum += digit ** order\n",
        "        temp //= 10\n",
        "        \n",
        "    if num == sum:\n",
        "        print(\"The first Armstrong number is\",num)\n",
        "        break"
      ],
      "execution_count": 1,
      "outputs": [
        {
          "output_type": "stream",
          "text": [
            "The first Armstrong number is 1741725\n"
          ],
          "name": "stdout"
        }
      ]
    }
  ]
}
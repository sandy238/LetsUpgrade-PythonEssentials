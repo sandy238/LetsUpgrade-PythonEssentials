{
  "nbformat": 4,
  "nbformat_minor": 0,
  "metadata": {
    "colab": {
      "name": "Letsupgrade python essentials Day2 Assignment.ipynb",
      "provenance": []
    },
    "kernelspec": {
      "name": "python3",
      "display_name": "Python 3"
    }
  },
  "cells": [
    {
      "cell_type": "markdown",
      "metadata": {
        "id": "IMsiZPwSreJj",
        "colab_type": "text"
      },
      "source": [
        "1.LISTS\n",
        "\n",
        "lists are collection of objects which are bundled together in an indexed manner,where any kind of object can be stored inside list.\n",
        "Ex:-we have a list of days\n",
        "1.monday.\n",
        "2.tuesday.\n",
        "3.wednesday.\n",
        "4.thurday.\n",
        "5.friday.\n",
        "6.saturday.\n",
        "7.sunday.\n",
        "\n",
        "5 defaults functions."
      ]
    },
    {
      "cell_type": "code",
      "metadata": {
        "id": "B5nkUGDstE6M",
        "colab_type": "code",
        "colab": {}
      },
      "source": [
        "lst=[\"monday.\",\"tuesday.\",\"wednesday.\",\"thurday.\",\"friday.\",\"saturday.\",\"sunday\"]"
      ],
      "execution_count": null,
      "outputs": []
    },
    {
      "cell_type": "code",
      "metadata": {
        "id": "E6DmKVfzvzfT",
        "colab_type": "code",
        "colab": {}
      },
      "source": [
        "lst.insert(0,\"weak\")"
      ],
      "execution_count": null,
      "outputs": []
    },
    {
      "cell_type": "code",
      "metadata": {
        "id": "8LK6pBfGuuFF",
        "colab_type": "code",
        "colab": {}
      },
      "source": [
        "lst.append(\"7days.\")"
      ],
      "execution_count": null,
      "outputs": []
    },
    {
      "cell_type": "code",
      "metadata": {
        "id": "xKkupOj5u5Rz",
        "colab_type": "code",
        "colab": {
          "base_uri": "https://localhost:8080/",
          "height": 36
        },
        "outputId": "f003416b-af0b-4ec8-81b2-a1b6b354dccd"
      },
      "source": [
        "lst.count(\"friday.\")"
      ],
      "execution_count": null,
      "outputs": [
        {
          "output_type": "execute_result",
          "data": {
            "text/plain": [
              "1"
            ]
          },
          "metadata": {
            "tags": []
          },
          "execution_count": 32
        }
      ]
    },
    {
      "cell_type": "code",
      "metadata": {
        "id": "f2wbf_d-wqtY",
        "colab_type": "code",
        "colab": {
          "base_uri": "https://localhost:8080/",
          "height": 36
        },
        "outputId": "975c1e14-367a-4589-e2f5-4946556ec17f"
      },
      "source": [
        "lst.pop(3)"
      ],
      "execution_count": null,
      "outputs": [
        {
          "output_type": "execute_result",
          "data": {
            "application/vnd.google.colaboratory.intrinsic+json": {
              "type": "string"
            },
            "text/plain": [
              "'wednesday.'"
            ]
          },
          "metadata": {
            "tags": []
          },
          "execution_count": 33
        }
      ]
    },
    {
      "cell_type": "code",
      "metadata": {
        "id": "RaCMmPXlwDFE",
        "colab_type": "code",
        "colab": {}
      },
      "source": [
        "lst.reverse()"
      ],
      "execution_count": null,
      "outputs": []
    },
    {
      "cell_type": "code",
      "metadata": {
        "id": "QnKGfzlGw0qg",
        "colab_type": "code",
        "colab": {
          "base_uri": "https://localhost:8080/",
          "height": 36
        },
        "outputId": "7777b656-c855-41bd-9f05-e617a5b836ba"
      },
      "source": [
        "print(lst)"
      ],
      "execution_count": null,
      "outputs": [
        {
          "output_type": "stream",
          "text": [
            "['7days.', 'sunday', 'saturday.', 'friday.', 'thurday.', 'tuesday.', 'monday.', 'weak']\n"
          ],
          "name": "stdout"
        }
      ]
    },
    {
      "cell_type": "markdown",
      "metadata": {
        "id": "XE7t8L4lxeg3",
        "colab_type": "text"
      },
      "source": [
        "2.DICTIONARIES\n",
        "\n",
        "Dict. are another data type, which is been used to store the data in key:value pairs.\n",
        "\n",
        "ex:-{\"HELLO\":\"Used to express a greating\"}.\n",
        "\n",
        "5 default functions"
      ]
    },
    {
      "cell_type": "code",
      "metadata": {
        "id": "0etlUTjpzTuM",
        "colab_type": "code",
        "colab": {}
      },
      "source": [
        "dit={\"HELLO\":\"Used to express a greating\",\"HOW\":\"Used to decribe the state of qoestion\",\"NUM\":\"1\"}"
      ],
      "execution_count": null,
      "outputs": []
    },
    {
      "cell_type": "code",
      "metadata": {
        "id": "SY_aqxZw0nej",
        "colab_type": "code",
        "colab": {
          "base_uri": "https://localhost:8080/",
          "height": 36
        },
        "outputId": "a22bff73-dfda-4f1b-b9d9-647cf068b106"
      },
      "source": [
        "dit.keys()"
      ],
      "execution_count": null,
      "outputs": [
        {
          "output_type": "execute_result",
          "data": {
            "text/plain": [
              "dict_keys(['HELLO', 'HOW', 'NUM'])"
            ]
          },
          "metadata": {
            "tags": []
          },
          "execution_count": 41
        }
      ]
    },
    {
      "cell_type": "code",
      "metadata": {
        "id": "R_5v4v320oA9",
        "colab_type": "code",
        "colab": {
          "base_uri": "https://localhost:8080/",
          "height": 36
        },
        "outputId": "4773b7ae-5417-49aa-8f1b-2994e295e379"
      },
      "source": [
        "dit.values()"
      ],
      "execution_count": null,
      "outputs": [
        {
          "output_type": "execute_result",
          "data": {
            "text/plain": [
              "dict_values(['Used to express a greating', 'Used to decribe the state of qoestion', '1'])"
            ]
          },
          "metadata": {
            "tags": []
          },
          "execution_count": 42
        }
      ]
    },
    {
      "cell_type": "code",
      "metadata": {
        "id": "ZT3_vrA50orQ",
        "colab_type": "code",
        "colab": {
          "base_uri": "https://localhost:8080/",
          "height": 36
        },
        "outputId": "94613b6d-65f1-456c-e197-cf7d41049f1c"
      },
      "source": [
        "dit.items()"
      ],
      "execution_count": null,
      "outputs": [
        {
          "output_type": "execute_result",
          "data": {
            "text/plain": [
              "dict_items([('HELLO', 'Used to express a greating'), ('HOW', 'Used to decribe the state of qoestion'), ('NUM', '1')])"
            ]
          },
          "metadata": {
            "tags": []
          },
          "execution_count": 43
        }
      ]
    },
    {
      "cell_type": "code",
      "metadata": {
        "id": "DcRUrK990pNf",
        "colab_type": "code",
        "colab": {
          "base_uri": "https://localhost:8080/",
          "height": 36
        },
        "outputId": "59201fd0-4a4f-46f5-c914-271c1a8a6d1e"
      },
      "source": [
        "dit.pop(\"NUM\")"
      ],
      "execution_count": null,
      "outputs": [
        {
          "output_type": "execute_result",
          "data": {
            "application/vnd.google.colaboratory.intrinsic+json": {
              "type": "string"
            },
            "text/plain": [
              "'1'"
            ]
          },
          "metadata": {
            "tags": []
          },
          "execution_count": 44
        }
      ]
    },
    {
      "cell_type": "code",
      "metadata": {
        "id": "g092cHs_0pzo",
        "colab_type": "code",
        "colab": {
          "base_uri": "https://localhost:8080/",
          "height": 36
        },
        "outputId": "8899dcec-8cc7-4650-d09d-a45f1b83bd8e"
      },
      "source": [
        "dit.get(\"HELLO\")"
      ],
      "execution_count": null,
      "outputs": [
        {
          "output_type": "execute_result",
          "data": {
            "application/vnd.google.colaboratory.intrinsic+json": {
              "type": "string"
            },
            "text/plain": [
              "'Used to express a greating'"
            ]
          },
          "metadata": {
            "tags": []
          },
          "execution_count": 45
        }
      ]
    },
    {
      "cell_type": "markdown",
      "metadata": {
        "id": "DJRNkqRL5PDf",
        "colab_type": "text"
      },
      "source": [
        "3.SETS\n",
        "\n",
        "Sets are unordered collection of unique order.\n",
        "sets are represented in curley braclets{} seperated by coma\",\".\n",
        "\n",
        "5 default functions"
      ]
    },
    {
      "cell_type": "code",
      "metadata": {
        "id": "yerawiPB7Rrj",
        "colab_type": "code",
        "colab": {}
      },
      "source": [
        "set={2,8,6,4,10}"
      ],
      "execution_count": null,
      "outputs": []
    },
    {
      "cell_type": "code",
      "metadata": {
        "id": "KayYs8cV7q0h",
        "colab_type": "code",
        "colab": {}
      },
      "source": [
        "set.add(0)"
      ],
      "execution_count": null,
      "outputs": []
    },
    {
      "cell_type": "code",
      "metadata": {
        "id": "bBk23t_z7rSJ",
        "colab_type": "code",
        "colab": {}
      },
      "source": [
        "len(set)"
      ],
      "execution_count": null,
      "outputs": []
    },
    {
      "cell_type": "code",
      "metadata": {
        "id": "c6kvLal37rq7",
        "colab_type": "code",
        "colab": {
          "base_uri": "https://localhost:8080/",
          "height": 36
        },
        "outputId": "1f9fedea-0233-4ddf-cd82-179c40f8cc5b"
      },
      "source": [
        "sorted(set)"
      ],
      "execution_count": null,
      "outputs": [
        {
          "output_type": "execute_result",
          "data": {
            "text/plain": [
              "[0, 2, 4, 6, 8, 10]"
            ]
          },
          "metadata": {
            "tags": []
          },
          "execution_count": 63
        }
      ]
    },
    {
      "cell_type": "code",
      "metadata": {
        "id": "fVYhvqX97sHR",
        "colab_type": "code",
        "colab": {
          "base_uri": "https://localhost:8080/",
          "height": 36
        },
        "outputId": "f54d78ca-72a8-451b-b7fa-caba6b713730"
      },
      "source": [
        "sum(set)"
      ],
      "execution_count": null,
      "outputs": [
        {
          "output_type": "execute_result",
          "data": {
            "text/plain": [
              "30"
            ]
          },
          "metadata": {
            "tags": []
          },
          "execution_count": 64
        }
      ]
    },
    {
      "cell_type": "code",
      "metadata": {
        "id": "-5Znx8al7ssm",
        "colab_type": "code",
        "colab": {
          "base_uri": "https://localhost:8080/",
          "height": 36
        },
        "outputId": "f4f5f5fb-fba9-4896-b592-9a5022e76a6b"
      },
      "source": [
        "max(set)"
      ],
      "execution_count": null,
      "outputs": [
        {
          "output_type": "execute_result",
          "data": {
            "text/plain": [
              "10"
            ]
          },
          "metadata": {
            "tags": []
          },
          "execution_count": 66
        }
      ]
    },
    {
      "cell_type": "markdown",
      "metadata": {
        "id": "X16KRcIk-UEQ",
        "colab_type": "text"
      },
      "source": [
        "4.TUPLE\n",
        "\n",
        "A container which store a collection of different data types which onces declared are never change.these are immutable in the programming world\n",
        ".these are represented in parenthesis and seperatred by coma\",\".\n",
        "\n",
        "=>This kind of data types is been used for storing your private keys while developing python based applications and softwares.\n",
        "\n",
        "5 default functions."
      ]
    },
    {
      "cell_type": "code",
      "metadata": {
        "id": "AOnyls3Z_S2C",
        "colab_type": "code",
        "colab": {}
      },
      "source": [
        "tup=(3,12,18,15,6,9,15,21,24,30,15,27)"
      ],
      "execution_count": null,
      "outputs": []
    },
    {
      "cell_type": "code",
      "metadata": {
        "id": "oNMi2jga_T8s",
        "colab_type": "code",
        "colab": {
          "base_uri": "https://localhost:8080/",
          "height": 36
        },
        "outputId": "9e11c63d-5e54-4681-b922-efc6a20c9ae3"
      },
      "source": [
        "tup.count(15)"
      ],
      "execution_count": null,
      "outputs": [
        {
          "output_type": "execute_result",
          "data": {
            "text/plain": [
              "3"
            ]
          },
          "metadata": {
            "tags": []
          },
          "execution_count": 71
        }
      ]
    },
    {
      "cell_type": "code",
      "metadata": {
        "id": "9iMiTd57_UV2",
        "colab_type": "code",
        "colab": {
          "base_uri": "https://localhost:8080/",
          "height": 36
        },
        "outputId": "8737dc6a-7778-439b-90c3-503110ad7f9c"
      },
      "source": [
        "tup.index(3)"
      ],
      "execution_count": null,
      "outputs": [
        {
          "output_type": "execute_result",
          "data": {
            "text/plain": [
              "0"
            ]
          },
          "metadata": {
            "tags": []
          },
          "execution_count": 73
        }
      ]
    },
    {
      "cell_type": "code",
      "metadata": {
        "id": "wb6C_C-__VHX",
        "colab_type": "code",
        "colab": {
          "base_uri": "https://localhost:8080/",
          "height": 36
        },
        "outputId": "08040b1d-ec57-44c2-f2e1-4a384d5c77fc"
      },
      "source": [
        "sorted(tup)"
      ],
      "execution_count": null,
      "outputs": [
        {
          "output_type": "execute_result",
          "data": {
            "text/plain": [
              "[3, 6, 9, 12, 15, 15, 15, 18, 21, 24, 27, 30]"
            ]
          },
          "metadata": {
            "tags": []
          },
          "execution_count": 74
        }
      ]
    },
    {
      "cell_type": "code",
      "metadata": {
        "id": "cL1d4-cp_VxZ",
        "colab_type": "code",
        "colab": {
          "base_uri": "https://localhost:8080/",
          "height": 36
        },
        "outputId": "5ff5d0d8-1068-4129-a201-083eeb5a7b53"
      },
      "source": [
        "tup[1:5]"
      ],
      "execution_count": null,
      "outputs": [
        {
          "output_type": "execute_result",
          "data": {
            "text/plain": [
              "(12, 18, 15, 6)"
            ]
          },
          "metadata": {
            "tags": []
          },
          "execution_count": 77
        }
      ]
    },
    {
      "cell_type": "code",
      "metadata": {
        "id": "NWtgStPX_WVH",
        "colab_type": "code",
        "colab": {
          "base_uri": "https://localhost:8080/",
          "height": 36
        },
        "outputId": "5a96d89e-4273-4a3a-b190-9d64ef2c5cac"
      },
      "source": [
        "tup[-1]"
      ],
      "execution_count": null,
      "outputs": [
        {
          "output_type": "execute_result",
          "data": {
            "text/plain": [
              "27"
            ]
          },
          "metadata": {
            "tags": []
          },
          "execution_count": 80
        }
      ]
    },
    {
      "cell_type": "markdown",
      "metadata": {
        "id": "6Z-o2VBLBj5t",
        "colab_type": "text"
      },
      "source": [
        "5.STRINGS\n",
        "\n",
        "A string is a sequence of characters.In python string is a sequence of unicode characters.\n",
        "\n",
        "5 default functions."
      ]
    },
    {
      "cell_type": "code",
      "metadata": {
        "id": "ZyEwbjDlCMUS",
        "colab_type": "code",
        "colab": {}
      },
      "source": [
        "strng='sandykankipati'"
      ],
      "execution_count": null,
      "outputs": []
    },
    {
      "cell_type": "code",
      "metadata": {
        "id": "_oDQA073CM7R",
        "colab_type": "code",
        "colab": {
          "base_uri": "https://localhost:8080/",
          "height": 36
        },
        "outputId": "e12d388c-c077-45cf-8ea2-66c99635bb22"
      },
      "source": [
        "strng.lower()"
      ],
      "execution_count": null,
      "outputs": [
        {
          "output_type": "execute_result",
          "data": {
            "application/vnd.google.colaboratory.intrinsic+json": {
              "type": "string"
            },
            "text/plain": [
              "'sandykankipati'"
            ]
          },
          "metadata": {
            "tags": []
          },
          "execution_count": 82
        }
      ]
    },
    {
      "cell_type": "code",
      "metadata": {
        "id": "mGMZKPleCNaH",
        "colab_type": "code",
        "colab": {
          "base_uri": "https://localhost:8080/",
          "height": 36
        },
        "outputId": "c2276593-2440-4c86-d306-7265aa488614"
      },
      "source": [
        "strng.upper()"
      ],
      "execution_count": null,
      "outputs": [
        {
          "output_type": "execute_result",
          "data": {
            "application/vnd.google.colaboratory.intrinsic+json": {
              "type": "string"
            },
            "text/plain": [
              "'SANDYKANKIPATI'"
            ]
          },
          "metadata": {
            "tags": []
          },
          "execution_count": 84
        }
      ]
    },
    {
      "cell_type": "code",
      "metadata": {
        "id": "4LQe2iBmCOGS",
        "colab_type": "code",
        "colab": {
          "base_uri": "https://localhost:8080/",
          "height": 36
        },
        "outputId": "9dc5ecea-89ac-4d65-869f-96932c233bac"
      },
      "source": [
        "sorted(strng)"
      ],
      "execution_count": null,
      "outputs": [
        {
          "output_type": "execute_result",
          "data": {
            "text/plain": [
              "['a', 'a', 'a', 'd', 'i', 'i', 'k', 'k', 'n', 'n', 'p', 's', 't', 'y']"
            ]
          },
          "metadata": {
            "tags": []
          },
          "execution_count": 85
        }
      ]
    },
    {
      "cell_type": "code",
      "metadata": {
        "id": "eLTlUrFgCOhX",
        "colab_type": "code",
        "colab": {
          "base_uri": "https://localhost:8080/",
          "height": 36
        },
        "outputId": "3b4f2d12-32f7-4394-a0f5-f83f4cdb2fed"
      },
      "source": [
        "len(strng)"
      ],
      "execution_count": null,
      "outputs": [
        {
          "output_type": "execute_result",
          "data": {
            "text/plain": [
              "14"
            ]
          },
          "metadata": {
            "tags": []
          },
          "execution_count": 86
        }
      ]
    },
    {
      "cell_type": "code",
      "metadata": {
        "id": "Up6C8ZXJCPCd",
        "colab_type": "code",
        "colab": {
          "base_uri": "https://localhost:8080/",
          "height": 279
        },
        "outputId": "7db7ea9a-89db-4890-8c57-edfa9fa7d10f"
      },
      "source": [
        "list(enumerate(strng))"
      ],
      "execution_count": null,
      "outputs": [
        {
          "output_type": "execute_result",
          "data": {
            "text/plain": [
              "[(0, 's'),\n",
              " (1, 'a'),\n",
              " (2, 'n'),\n",
              " (3, 'd'),\n",
              " (4, 'y'),\n",
              " (5, 'k'),\n",
              " (6, 'a'),\n",
              " (7, 'n'),\n",
              " (8, 'k'),\n",
              " (9, 'i'),\n",
              " (10, 'p'),\n",
              " (11, 'a'),\n",
              " (12, 't'),\n",
              " (13, 'i')]"
            ]
          },
          "metadata": {
            "tags": []
          },
          "execution_count": 87
        }
      ]
    }
  ]
}
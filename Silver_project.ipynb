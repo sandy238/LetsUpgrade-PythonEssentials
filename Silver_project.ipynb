{
  "nbformat": 4,
  "nbformat_minor": 0,
  "metadata": {
    "colab": {
      "name": "Silver/project.ipynb",
      "provenance": []
    },
    "kernelspec": {
      "name": "python3",
      "display_name": "Python 3"
    }
  },
  "cells": [
    {
      "cell_type": "code",
      "metadata": {
        "id": "IWaqBW0PrVNB",
        "colab_type": "code",
        "colab": {}
      },
      "source": [
        "def takePlayerInput():\n",
        "    player = \"blank\"\n",
        "    while not( player.lower() == \"r\" or player.lower() == \"p\" or player.lower() == \"s\") :\n",
        "        player = input(\"Please Enter your input out of - R | P | S = \")\n",
        "    return player.lower()"
      ],
      "execution_count": 1,
      "outputs": []
    },
    {
      "cell_type": "code",
      "metadata": {
        "id": "mdkX-lR0raob",
        "colab_type": "code",
        "colab": {
          "base_uri": "https://localhost:8080/",
          "height": 55
        },
        "outputId": "20803750-37a5-434c-d16c-1c14d06b574d"
      },
      "source": [
        "takePlayerInput()"
      ],
      "execution_count": 3,
      "outputs": [
        {
          "output_type": "stream",
          "text": [
            "Please Enter your input out of - R | P | S = S\n"
          ],
          "name": "stdout"
        },
        {
          "output_type": "execute_result",
          "data": {
            "application/vnd.google.colaboratory.intrinsic+json": {
              "type": "string"
            },
            "text/plain": [
              "'s'"
            ]
          },
          "metadata": {
            "tags": []
          },
          "execution_count": 3
        }
      ]
    },
    {
      "cell_type": "code",
      "metadata": {
        "id": "sySNF-j0rfKJ",
        "colab_type": "code",
        "colab": {}
      },
      "source": [
        "import random \n",
        "\n",
        "def getBotInput():\n",
        "    lst = ['r','s','p']\n",
        "    return random.choice(lst)"
      ],
      "execution_count": 4,
      "outputs": []
    },
    {
      "cell_type": "code",
      "metadata": {
        "id": "5xoPVrMVrkWB",
        "colab_type": "code",
        "colab": {}
      },
      "source": [
        "getBotInput()"
      ],
      "execution_count": null,
      "outputs": []
    },
    {
      "cell_type": "code",
      "metadata": {
        "id": "yIakTOLbr0-b",
        "colab_type": "code",
        "colab": {}
      },
      "source": [
        "def checkWinner(player,bot):\n",
        "    if player == 'r' and bot == \"r\":\n",
        "        return \"draw\"\n",
        "    elif player == \"r\" and bot == \"p\":\n",
        "        return \"bot\"\n",
        "    elif player == \"r\" and bot == \"s\":\n",
        "        return \"player\"\n",
        "    elif player == \"p\" and bot == \"s\":\n",
        "        return \"bot\"\n",
        "    elif player == \"p\" and bot == \"r\":\n",
        "        return \"player\"\n",
        "    elif player == \"p\" and bot == \"p\":\n",
        "        return \"draw\"\n",
        "    elif player == \"s\" and bot == \"r\":\n",
        "        return \"bot\"\n",
        "    elif player == \"s\" and bot == \"p\":\n",
        "        return \"player\"\n",
        "    elif player == \"s\" and bot == \"s\":\n",
        "        return \"draw\"\n",
        "    else:\n",
        "        return \"draw\""
      ],
      "execution_count": 6,
      "outputs": []
    },
    {
      "cell_type": "code",
      "metadata": {
        "id": "aU1Ate31r2ca",
        "colab_type": "code",
        "colab": {
          "base_uri": "https://localhost:8080/",
          "height": 36
        },
        "outputId": "de5e4bf4-bd9b-440c-87e2-fa84e744d35b"
      },
      "source": [
        "checkWinner(player = \"r\",bot = \"p\")"
      ],
      "execution_count": 7,
      "outputs": [
        {
          "output_type": "execute_result",
          "data": {
            "application/vnd.google.colaboratory.intrinsic+json": {
              "type": "string"
            },
            "text/plain": [
              "'bot'"
            ]
          },
          "metadata": {
            "tags": []
          },
          "execution_count": 7
        }
      ]
    },
    {
      "cell_type": "code",
      "metadata": {
        "id": "e3NeJC6mr6PC",
        "colab_type": "code",
        "colab": {}
      },
      "source": [
        "def rockPaperScissor():\n",
        "    endTheGame = \"n\"\n",
        "    player_score = 0 \n",
        "    bot_score = 0\n",
        "    while endTheGame.lower() != \"y\":\n",
        "        ply = takePlayerInput()\n",
        "        bt = getBotInput()\n",
        "        print('Bot Entered - ', bt)\n",
        "        print(\" \")\n",
        "        winner = checkWinner(player = ply, bot = bt)\n",
        "        print(\" Winner is - \", winner)\n",
        "        print(\" \")\n",
        "        if winner == \"player\":\n",
        "            player_score += 2\n",
        "        elif winner == \"bot\":\n",
        "            bot_score += 2\n",
        "        else :\n",
        "            player_score += 1\n",
        "            bot_score += 1\n",
        "            \n",
        "        print(\"--Score board--\")\n",
        "        print(\"PLAYER \",player_score)\n",
        "        print(\"Bot ---\",bot_score)\n",
        "        print(\" \")\n",
        "        endTheGame = input(\"You want to end Y/N - \")"
      ],
      "execution_count": 8,
      "outputs": []
    },
    {
      "cell_type": "code",
      "metadata": {
        "id": "bJtTVGFlr_Jt",
        "colab_type": "code",
        "colab": {
          "base_uri": "https://localhost:8080/",
          "height": 1000
        },
        "outputId": "a35f1133-41e1-49e8-cebc-e2669a8361a5"
      },
      "source": [
        "rockPaperScissor()"
      ],
      "execution_count": 9,
      "outputs": [
        {
          "output_type": "stream",
          "text": [
            "Please Enter your input out of - R | P | S = S\n",
            "Bot Entered -  p\n",
            " \n",
            " Winner is -  player\n",
            " \n",
            "--Score board--\n",
            "PLAYER  2\n",
            "Bot --- 0\n",
            " \n",
            "You want to end Y/N - N\n",
            "Please Enter your input out of - R | P | S = R\n",
            "Bot Entered -  r\n",
            " \n",
            " Winner is -  draw\n",
            " \n",
            "--Score board--\n",
            "PLAYER  3\n",
            "Bot --- 1\n",
            " \n",
            "You want to end Y/N - N\n",
            "Please Enter your input out of - R | P | S = R\n",
            "Bot Entered -  p\n",
            " \n",
            " Winner is -  bot\n",
            " \n",
            "--Score board--\n",
            "PLAYER  3\n",
            "Bot --- 3\n",
            " \n",
            "You want to end Y/N - N\n",
            "Please Enter your input out of - R | P | S = P\n",
            "Bot Entered -  p\n",
            " \n",
            " Winner is -  draw\n",
            " \n",
            "--Score board--\n",
            "PLAYER  4\n",
            "Bot --- 4\n",
            " \n",
            "You want to end Y/N - N\n",
            "Please Enter your input out of - R | P | S = S\n",
            "Bot Entered -  s\n",
            " \n",
            " Winner is -  draw\n",
            " \n",
            "--Score board--\n",
            "PLAYER  5\n",
            "Bot --- 5\n",
            " \n",
            "You want to end Y/N - N\n",
            "Please Enter your input out of - R | P | S = R\n",
            "Bot Entered -  s\n",
            " \n",
            " Winner is -  player\n",
            " \n",
            "--Score board--\n",
            "PLAYER  7\n",
            "Bot --- 5\n",
            " \n",
            "You want to end Y/N - Y\n"
          ],
          "name": "stdout"
        }
      ]
    }
  ]
}
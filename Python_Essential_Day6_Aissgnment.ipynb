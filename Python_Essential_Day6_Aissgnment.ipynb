{
  "nbformat": 4,
  "nbformat_minor": 0,
  "metadata": {
    "colab": {
      "name": "Untitled1.ipynb",
      "provenance": []
    },
    "kernelspec": {
      "name": "python3",
      "display_name": "Python 3"
    }
  },
  "cells": [
    {
      "cell_type": "markdown",
      "metadata": {
        "id": "YxiLX1sUinSM",
        "colab_type": "text"
      },
      "source": [
        "Question 1"
      ]
    },
    {
      "cell_type": "code",
      "metadata": {
        "id": "wQr78I7cR1Tu",
        "colab_type": "code",
        "colab": {
          "base_uri": "https://localhost:8080/",
          "height": 73
        },
        "outputId": "767f1dca-9c3f-44a7-b9a1-421c4998dcfe"
      },
      "source": [
        "class BankAccount():\n",
        "        def __init__(self):\n",
        "            balance=0\n",
        "            print(\"Hello! Wellcome to Deposite & Withdrawn machine\")\n",
        "            name=input(\"\\nEnter your name:\")\n",
        "            \n",
        "            self.balance=balance\n",
        "            self.name=name\n",
        "            \n",
        "        def deposit(self):\n",
        "            name=self.name\n",
        "            amount=float(input(\"\\nEnter the amount to be deposited: \"))\n",
        "            self.balance+=amount\n",
        "            print(\"\\nAmount deposited by \",name,\"=\",amount)\n",
        "            balance=self.balance\n",
        "            print(\"\\nNet balance in your ammount=\",balance)\n",
        "            \n",
        "        def withdraw(self):\n",
        "            name=self.name\n",
        "            amount=float(input(\"\\nEnter the amount to be withdraw: \"))\n",
        "            if self.balance>amount:\n",
        "                self.balance-=amount\n",
        "                print(\"\\nAmount withdrawn by\",name,\"=\",amount)\n",
        "            else:\n",
        "                print(\"\\nInsufficient balance\")\n",
        "            balance=self.balance\n",
        "            print(\"\\nNet balance in your ammount=\",balance)\n",
        "            print(\"\\nThank you.Visit again\")\n",
        "            \n",
        "s=BankAccount()\n"
      ],
      "execution_count": 3,
      "outputs": [
        {
          "output_type": "stream",
          "text": [
            "Hello! Wellcome to Deposite & Withdrawn machine\n",
            "\n",
            "Enter your name:SANDY\n"
          ],
          "name": "stdout"
        }
      ]
    },
    {
      "cell_type": "code",
      "metadata": {
        "id": "HazgQoJqiBdY",
        "colab_type": "code",
        "colab": {
          "base_uri": "https://localhost:8080/",
          "height": 129
        },
        "outputId": "dc0ba718-863f-401f-f490-018aa78c61b5"
      },
      "source": [
        "s.deposit()"
      ],
      "execution_count": 4,
      "outputs": [
        {
          "output_type": "stream",
          "text": [
            "\n",
            "Enter the amount to be deposited: 10500\n",
            "\n",
            "Amount deposited by  SANDY = 10500.0\n",
            "\n",
            "Net balance in your ammount= 10500.0\n"
          ],
          "name": "stdout"
        }
      ]
    },
    {
      "cell_type": "code",
      "metadata": {
        "id": "u0dz1kywiHa0",
        "colab_type": "code",
        "colab": {
          "base_uri": "https://localhost:8080/",
          "height": 129
        },
        "outputId": "8e66983d-2237-46ec-9fd1-56ad84c26f44"
      },
      "source": [
        "s.deposit()"
      ],
      "execution_count": 5,
      "outputs": [
        {
          "output_type": "stream",
          "text": [
            "\n",
            "Enter the amount to be deposited: 4500\n",
            "\n",
            "Amount deposited by  SANDY = 4500.0\n",
            "\n",
            "Net balance in your ammount= 15000.0\n"
          ],
          "name": "stdout"
        }
      ]
    },
    {
      "cell_type": "code",
      "metadata": {
        "id": "9p58NISliMpv",
        "colab_type": "code",
        "colab": {
          "base_uri": "https://localhost:8080/",
          "height": 167
        },
        "outputId": "74dbadaa-2d16-4388-a6c4-fe7b52ddfaef"
      },
      "source": [
        "s.withdraw()"
      ],
      "execution_count": 6,
      "outputs": [
        {
          "output_type": "stream",
          "text": [
            "\n",
            "Enter the amount to be withdraw: 3000\n",
            "\n",
            "Amount withdrawn by SANDY = 3000.0\n",
            "\n",
            "Net balance in your ammount= 12000.0\n",
            "\n",
            "Thank you.Visit again\n"
          ],
          "name": "stdout"
        }
      ]
    },
    {
      "cell_type": "code",
      "metadata": {
        "id": "q5O-QCc7iRjC",
        "colab_type": "code",
        "colab": {
          "base_uri": "https://localhost:8080/",
          "height": 129
        },
        "outputId": "ada444e2-6b52-4fd0-81ac-ea465bca8adc"
      },
      "source": [
        "s.deposit()"
      ],
      "execution_count": 7,
      "outputs": [
        {
          "output_type": "stream",
          "text": [
            "\n",
            "Enter the amount to be deposited: 1500\n",
            "\n",
            "Amount deposited by  SANDY = 1500.0\n",
            "\n",
            "Net balance in your ammount= 13500.0\n"
          ],
          "name": "stdout"
        }
      ]
    },
    {
      "cell_type": "code",
      "metadata": {
        "id": "K4GyCwxQiXbb",
        "colab_type": "code",
        "colab": {
          "base_uri": "https://localhost:8080/",
          "height": 167
        },
        "outputId": "57d8a8f0-c1cd-453f-a00e-809c01305d5c"
      },
      "source": [
        "s.withdraw()"
      ],
      "execution_count": 8,
      "outputs": [
        {
          "output_type": "stream",
          "text": [
            "\n",
            "Enter the amount to be withdraw: 2200\n",
            "\n",
            "Amount withdrawn by SANDY = 2200.0\n",
            "\n",
            "Net balance in your ammount= 11300.0\n",
            "\n",
            "Thank you.Visit again\n"
          ],
          "name": "stdout"
        }
      ]
    },
    {
      "cell_type": "code",
      "metadata": {
        "id": "SMgfQlmsicNi",
        "colab_type": "code",
        "colab": {
          "base_uri": "https://localhost:8080/",
          "height": 167
        },
        "outputId": "7651ba96-05b0-4831-ecaa-c71c5a0c3661"
      },
      "source": [
        "s.withdraw()"
      ],
      "execution_count": 9,
      "outputs": [
        {
          "output_type": "stream",
          "text": [
            "\n",
            "Enter the amount to be withdraw: 3300\n",
            "\n",
            "Amount withdrawn by SANDY = 3300.0\n",
            "\n",
            "Net balance in your ammount= 8000.0\n",
            "\n",
            "Thank you.Visit again\n"
          ],
          "name": "stdout"
        }
      ]
    },
    {
      "cell_type": "markdown",
      "metadata": {
        "id": "IbsPhHjSirzb",
        "colab_type": "text"
      },
      "source": [
        "Question 2"
      ]
    },
    {
      "cell_type": "code",
      "metadata": {
        "id": "lhttdfcpiuGX",
        "colab_type": "code",
        "colab": {
          "base_uri": "https://localhost:8080/",
          "height": 54
        },
        "outputId": "095d2568-4fdd-4c40-91f6-bf3053b0f0e3"
      },
      "source": [
        "import math\n",
        "class Cone():\n",
        "    def __init__(self):\n",
        "        radius=float(input(\"Radius = \"))\n",
        "        height=float(input(\"Height = \"))\n",
        "\n",
        "        self.radius=radius\n",
        "        self.height=height\n",
        "\n",
        "    def Volume(self):\n",
        "        radius=self.radius\n",
        "        height=self.height\n",
        "        volume=3.14*radius*radius*(height/3)\n",
        "        print(\"Volume of Cone = %.2f\"%volume)\n",
        "\n",
        "    def SurfaceArea(self):\n",
        "        radius=self.radius\n",
        "        height=self.height\n",
        "        base=3.14*radius*radius\n",
        "        side=3.14*radius*(math.sqrt((radius*radius)+(height*height)))\n",
        "        print(\"Surface area of base = %.2f\"%base)\n",
        "        print(\"\\nSurface area of lateral surface(side) = %.2f\"%side)\n",
        "\n",
        "s=Cone()"
      ],
      "execution_count": 18,
      "outputs": [
        {
          "output_type": "stream",
          "text": [
            "Radius = 3.5\n",
            "Height = 5.2\n"
          ],
          "name": "stdout"
        }
      ]
    },
    {
      "cell_type": "code",
      "metadata": {
        "id": "6K2jyJl-r8K9",
        "colab_type": "code",
        "colab": {
          "base_uri": "https://localhost:8080/",
          "height": 36
        },
        "outputId": "a3d3814d-3179-4627-a2bb-0088bc5a8d14"
      },
      "source": [
        "s.Volume()"
      ],
      "execution_count": 19,
      "outputs": [
        {
          "output_type": "stream",
          "text": [
            "Volume of Cone = 66.67\n"
          ],
          "name": "stdout"
        }
      ]
    },
    {
      "cell_type": "code",
      "metadata": {
        "id": "bq9Xna3tr5vj",
        "colab_type": "code",
        "colab": {
          "base_uri": "https://localhost:8080/",
          "height": 73
        },
        "outputId": "1240d90d-f53f-4156-fcd2-1ad64e1930e9"
      },
      "source": [
        "s.SurfaceArea()"
      ],
      "execution_count": 20,
      "outputs": [
        {
          "output_type": "stream",
          "text": [
            "Surface area of base = 38.47\n",
            "\n",
            "Surface area of lateral surface(side) = 68.89\n"
          ],
          "name": "stdout"
        }
      ]
    }
  ]
}
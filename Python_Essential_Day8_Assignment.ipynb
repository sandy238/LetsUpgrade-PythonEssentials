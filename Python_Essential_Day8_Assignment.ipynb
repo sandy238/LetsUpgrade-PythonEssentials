{
  "nbformat": 4,
  "nbformat_minor": 0,
  "metadata": {
    "colab": {
      "name": "Python/Essential/Day8/Assignment.ipynb",
      "provenance": []
    },
    "kernelspec": {
      "name": "python3",
      "display_name": "Python 3"
    }
  },
  "cells": [
    {
      "cell_type": "markdown",
      "metadata": {
        "id": "zbb0FXwvlGTQ",
        "colab_type": "text"
      },
      "source": [
        "Question 1"
      ]
    },
    {
      "cell_type": "code",
      "metadata": {
        "id": "CU9yB3yjkwg-",
        "colab_type": "code",
        "colab": {
          "base_uri": "https://localhost:8080/",
          "height": 372
        },
        "outputId": "57fea945-53f0-43ce-8479-ba7197d61d6e"
      },
      "source": [
        "def fibonacci(input_value):\n",
        "    if input_value == 1:\n",
        "        return 1\n",
        "    elif input_value == 2:\n",
        "        return 1\n",
        "    else:\n",
        "        return fibonacci(input_value -1) + fibonacci(input_value -2)\n",
        "fibonacci_cache = {}\n",
        "\n",
        "def fibonacci_memo(input_value):\n",
        "    if input_value in fibonacci_cache:\n",
        "        return fibonacci_cache[input_value]\n",
        "    if input_value == 1:\n",
        "            value = 1\n",
        "    elif input_value == 2:\n",
        "            value = 1\n",
        "    elif input_value > 2:           \n",
        "            value =  fibonacci_memo(input_value-1) + fibonacci_memo(input_value-2)\n",
        "    fibonacci_cache[input_value] = value\n",
        "    return value\n",
        "fibonacci_memo=fibonacci\n",
        "for i in range(1, 20):\n",
        "     print(\"fib({}) = \".format(i), fibonacci(i))"
      ],
      "execution_count": 1,
      "outputs": [
        {
          "output_type": "stream",
          "text": [
            "fib(1) =  1\n",
            "fib(2) =  1\n",
            "fib(3) =  2\n",
            "fib(4) =  3\n",
            "fib(5) =  5\n",
            "fib(6) =  8\n",
            "fib(7) =  13\n",
            "fib(8) =  21\n",
            "fib(9) =  34\n",
            "fib(10) =  55\n",
            "fib(11) =  89\n",
            "fib(12) =  144\n",
            "fib(13) =  233\n",
            "fib(14) =  377\n",
            "fib(15) =  610\n",
            "fib(16) =  987\n",
            "fib(17) =  1597\n",
            "fib(18) =  2584\n",
            "fib(19) =  4181\n"
          ],
          "name": "stdout"
        }
      ]
    },
    {
      "cell_type": "markdown",
      "metadata": {
        "id": "IHPMbVUylae0",
        "colab_type": "text"
      },
      "source": [
        "Question 2"
      ]
    },
    {
      "cell_type": "code",
      "metadata": {
        "id": "VA9N3239lbZy",
        "colab_type": "code",
        "colab": {
          "base_uri": "https://localhost:8080/",
          "height": 174
        },
        "outputId": "8f2bae0f-0b69-4452-a88c-ca17d5619b04"
      },
      "source": [
        "p=open(\"nonexistingfile.txt\",\"r\")"
      ],
      "execution_count": 2,
      "outputs": [
        {
          "output_type": "error",
          "ename": "FileNotFoundError",
          "evalue": "ignored",
          "traceback": [
            "\u001b[0;31m---------------------------------------------------------------------------\u001b[0m",
            "\u001b[0;31mFileNotFoundError\u001b[0m                         Traceback (most recent call last)",
            "\u001b[0;32m<ipython-input-2-02d061e27ad9>\u001b[0m in \u001b[0;36m<module>\u001b[0;34m()\u001b[0m\n\u001b[0;32m----> 1\u001b[0;31m \u001b[0mp\u001b[0m\u001b[0;34m=\u001b[0m\u001b[0mopen\u001b[0m\u001b[0;34m(\u001b[0m\u001b[0;34m\"nonexistingfile.txt\"\u001b[0m\u001b[0;34m,\u001b[0m\u001b[0;34m\"r\"\u001b[0m\u001b[0;34m)\u001b[0m\u001b[0;34m\u001b[0m\u001b[0;34m\u001b[0m\u001b[0m\n\u001b[0m",
            "\u001b[0;31mFileNotFoundError\u001b[0m: [Errno 2] No such file or directory: 'nonexistingfile.txt'"
          ]
        }
      ]
    },
    {
      "cell_type": "markdown",
      "metadata": {
        "id": "EGBFmcXElksI",
        "colab_type": "text"
      },
      "source": [
        "An error which occur while the program is running is known as exception. When this happens, we say Python has raised an exception or an exception is thrown. Whenever such errors happens, Python creates a special type of object which contains all the relevant information about the error just occurred. For example, it contains line number at which error occurred, error messages (remember it is called traceback) and so on. By default, these errors simply halts the execution of the program. Exception handling mechanism allows us to deal with such errors gracefully without halting the program."
      ]
    }
  ]
}